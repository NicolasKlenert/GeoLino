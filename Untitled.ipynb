{
 "cells": [
  {
   "cell_type": "code",
   "execution_count": 3,
   "metadata": {
    "collapsed": false
   },
   "outputs": [],
   "source": [
    "from Sequencer import Sequencer\n",
    "import numpy as np"
   ]
  },
  {
   "cell_type": "code",
   "execution_count": 2,
   "metadata": {
    "collapsed": false
   },
   "outputs": [],
   "source": [
    "seq = Sequencer('tests/text.txt')"
   ]
  },
  {
   "cell_type": "code",
   "execution_count": null,
   "metadata": {
    "collapsed": false
   },
   "outputs": [],
   "source": []
  },
  {
   "cell_type": "code",
   "execution_count": null,
   "metadata": {
    "collapsed": false
   },
   "outputs": [],
   "source": []
  },
  {
   "cell_type": "code",
   "execution_count": null,
   "metadata": {
    "collapsed": false
   },
   "outputs": [],
   "source": []
  },
  {
   "cell_type": "code",
   "execution_count": 35,
   "metadata": {
    "collapsed": false
   },
   "outputs": [],
   "source": [
    "def hasRank(A, k, tol = 0.01):\n",
    "        if A.size == 0:\n",
    "            return k == 0\n",
    "        if k > max(A.shape):\n",
    "            return False\n",
    "        return np.linalg.matrix_rank(A, tol) == k"
   ]
  },
  {
   "cell_type": "code",
   "execution_count": 46,
   "metadata": {
    "collapsed": false
   },
   "outputs": [],
   "source": [
    "def doubleDescriptionMethod(A, tol = 0.01, normalize = False, minimise = True):\n",
    "        m, n = A.shape\n",
    "        #get a fullrank indexlist\n",
    "        I = Sequencer._getMinimunIndexList(A,tol)\n",
    "        #important: V is different here then in the skript! it is transposed\n",
    "        #therefore V is a Vector of the Vi\n",
    "        V = np.negative(np.linalg.inv(A[I,:])).T\n",
    "        J = set(range(m)).difference(I)\n",
    "        while len(J) != 0:\n",
    "            j = J.pop()\n",
    "            a = A[j,:]  #j-th row\n",
    "            #calcualte scalarproduct of a and vi (vi the columns of V)\n",
    "            scalars = np.dot(V,a)\n",
    "            V1 = V[scalars <= 0,:] #all vi with si <= 0\n",
    "            #create V2: all si*vj-sj*vi with si > 0, sj < 0\n",
    "            Vneg = V[scalars < 0,:]\n",
    "            Vpos = V[scalars > 0,:]\n",
    "            scalars_neg = scalars[scalars < 0]\n",
    "            scalars_pos = scalars[scalars > 0]\n",
    "            #calculate rightSummand (sj*vi)\n",
    "            #at the end we want to slice the tensor (on the third axis; axis=0)\n",
    "            rightTensor = scalars_neg.reshape((len(scalars_neg),1,1))*Vpos\n",
    "            rightSummand = rightTensor.reshape((-1,n))\n",
    "            #calculate leftSummand (si*vj)\n",
    "            Vneg_m, Vneg_n = Vneg.shape\n",
    "            leftTensor = scalars_pos.reshape((1,len(scalars_pos),1))*Vneg.reshape((Vneg_m,1,Vneg_n))\n",
    "            leftSummand = leftTensor.reshape((-1,n))\n",
    "            V2 = leftSummand - rightSummand\n",
    "            if minimise:\n",
    "            #-----delete all unnecessarty Vi------------\n",
    "                Wneg = np.dot(Vneg, A.T)\n",
    "                Wpos = np.dot(Vpos, A.T)\n",
    "                Wpos = np.repeat(Wpos, len(scalars_neg), axis=0)\n",
    "                Wneg = np.tile(Wneg, (len(scalars_pos),1))\n",
    "                #print(Vpos)\n",
    "                #print(Wpos)\n",
    "                cond = np.logical_and(Wpos == 0, Wneg == 0)\n",
    "                print(cond)\n",
    "                #cond array is a boolean matrix corresponding to V2\n",
    "                indices = [np.nonzero(row)[0] for row in cond]\n",
    "                #test the rank of AJ\n",
    "                booleanList = np.array([hasRank(A[ind,:], n-2) for ind in indices])\n",
    "                print(booleanList)\n",
    "                V2 = V2[booleanList]\n",
    "            #------end of extracting unnecessary vi-----------\n",
    "            V = np.concatenate((V1,V2))\n",
    "            #print(V)\n",
    "            #print(leftSummand)\n",
    "            #print(rightSummand)\n",
    "            print(\"step \"+str(j)+\" finished ================================\")\n",
    "        return V.T"
   ]
  },
  {
   "cell_type": "code",
   "execution_count": 48,
   "metadata": {
    "collapsed": false,
    "scrolled": true
   },
   "outputs": [
    {
     "name": "stdout",
     "output_type": "stream",
     "text": [
      "[[False False  True False False]\n",
      " [False  True False False False]]\n",
      "[ True  True]\n",
      "step 3 finished ================================\n",
      "[[ True False False False False]\n",
      " [False False False False False]\n",
      " [False False False False False]\n",
      " [False False False  True False]]\n",
      "[ True False False  True]\n",
      "step 4 finished ================================\n"
     ]
    },
    {
     "data": {
      "text/plain": [
       "array([[ 0.,  1.,  0.,  3.],\n",
       "       [ 1.,  1.,  1.,  2.],\n",
       "       [ 0.,  0.,  2.,  1.]])"
      ]
     },
     "execution_count": 48,
     "metadata": {},
     "output_type": "execute_result"
    }
   ],
   "source": [
    "A1 = np.negative(np.eye(3))\n",
    "A2 = np.array([[1,-1,-1],[1,-2,1]])\n",
    "A = np.concatenate((A1,A2),axis=0)\n",
    "doubleDescriptionMethod(A,minimise=True)"
   ]
  },
  {
   "cell_type": "code",
   "execution_count": null,
   "metadata": {
    "collapsed": false
   },
   "outputs": [],
   "source": [
    "set(range(10))"
   ]
  },
  {
   "cell_type": "code",
   "execution_count": 76,
   "metadata": {
    "collapsed": false
   },
   "outputs": [
    {
     "data": {
      "text/plain": [
       "array([[[ 3,  5],\n",
       "        [ 7, 10]],\n",
       "\n",
       "       [[ 6, 10],\n",
       "        [14, 20]],\n",
       "\n",
       "       [[ 9, 15],\n",
       "        [21, 30]]])"
      ]
     },
     "execution_count": 76,
     "metadata": {},
     "output_type": "execute_result"
    }
   ],
   "source": [
    "s = np.array([1,2,3]).reshape((3,1,1))\n",
    "A = np.array([[3,5],[7,10]])\n",
    "A*s"
   ]
  },
  {
   "cell_type": "code",
   "execution_count": 34,
   "metadata": {
    "collapsed": false
   },
   "outputs": [
    {
     "data": {
      "text/plain": [
       "(1, 0)"
      ]
     },
     "execution_count": 34,
     "metadata": {},
     "output_type": "execute_result"
    }
   ],
   "source": [
    "B = np.array([[]])\n",
    "B.shape"
   ]
  },
  {
   "cell_type": "code",
   "execution_count": null,
   "metadata": {
    "collapsed": true
   },
   "outputs": [],
   "source": []
  }
 ],
 "metadata": {
  "kernelspec": {
   "display_name": "Python 3",
   "language": "python",
   "name": "python3"
  },
  "language_info": {
   "codemirror_mode": {
    "name": "ipython",
    "version": 3
   },
   "file_extension": ".py",
   "mimetype": "text/x-python",
   "name": "python",
   "nbconvert_exporter": "python",
   "pygments_lexer": "ipython3",
   "version": "3.5.0"
  }
 },
 "nbformat": 4,
 "nbformat_minor": 0
}
