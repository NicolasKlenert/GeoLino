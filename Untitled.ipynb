{
 "cells": [
  {
   "cell_type": "code",
   "execution_count": 1,
   "metadata": {
    "collapsed": false
   },
   "outputs": [],
   "source": [
    "import Sequencer\n",
    "import numpy as np"
   ]
  },
  {
   "cell_type": "code",
   "execution_count": 2,
   "metadata": {
    "collapsed": false
   },
   "outputs": [],
   "source": [
    "a = Sequencer.Sequencer('tests/testtext.txt')"
   ]
  },
  {
   "cell_type": "code",
   "execution_count": 3,
   "metadata": {
    "collapsed": false
   },
   "outputs": [
    {
     "data": {
      "text/plain": [
       "array([[ 1.  ,  0.  ,  1.  ,  0.  ,  1.  ],\n",
       "       [ 0.5 ,  4.  ,  3.  ,  2.  ,  1.  ],\n",
       "       [-1.  , -0.25,  4.  ,  2.  ,  0.  ]])"
      ]
     },
     "execution_count": 3,
     "metadata": {},
     "output_type": "execute_result"
    }
   ],
   "source": [
    "a.matrix"
   ]
  },
  {
   "cell_type": "code",
   "execution_count": 61,
   "metadata": {
    "collapsed": false
   },
   "outputs": [
    {
     "name": "stdout",
     "output_type": "stream",
     "text": [
      "[[-0.  -0.  -1. ]\n",
      " [-0.5  1.5 -1. ]\n",
      " [ 0.  -1.   1. ]]\n",
      "==============\n",
      "[-0.5  1.5 -2. ]\n",
      "[[-0.  -0.5  0. ]\n",
      " [-0.   1.5 -1. ]\n",
      " [-1.  -1.   1. ]]\n",
      "[-0.75  4.25 -3.  ]\n"
     ]
    }
   ],
   "source": [
    "A = np.array([[1,2,3],[1,0,1],[1,0,0]])\n",
    "tol = 0.01\n",
    "m, n = A.shape\n",
    "#betrachte V\n",
    "#print(A)\n",
    "V = np.negative(np.linalg.inv(A)).T\n",
    "print(V.T)\n",
    "#skalarprodukt von a mit den spalten von V\n",
    "a = [1,1,0]\n",
    "scalars = np.dot(V,a)\n",
    "print(\"==============\")\n",
    "print(scalars)\n",
    "print(V)\n",
    "print(np.dot(scalars,V))"
   ]
  },
  {
   "cell_type": "code",
   "execution_count": 111,
   "metadata": {
    "collapsed": false
   },
   "outputs": [
    {
     "name": "stdout",
     "output_type": "stream",
     "text": [
      "(2, 3)\n",
      "[[[1 1 1]\n",
      "  [1 2 3]]]\n",
      "(3,)\n",
      "[[[ 3]]\n",
      "\n",
      " [[ 5]]\n",
      "\n",
      " [[10]]]\n",
      "(3, 1, 1)\n"
     ]
    },
    {
     "data": {
      "text/plain": [
       "array([[ 3,  3,  3],\n",
       "       [ 3,  6,  9],\n",
       "       [ 5,  5,  5],\n",
       "       [ 5, 10, 15],\n",
       "       [10, 10, 10],\n",
       "       [10, 20, 30]])"
      ]
     },
     "execution_count": 111,
     "metadata": {},
     "output_type": "execute_result"
    }
   ],
   "source": [
    "x = np.array([[1,1,1],[1,2,3]])\n",
    "print(x.shape)\n",
    "x = x.reshape((1,2,3))\n",
    "print(x)\n",
    "scalars = np.array([3,5,10])\n",
    "print(scalars.shape)\n",
    "scalars = scalars.reshape((3,1,1))\n",
    "#scalars = np.tile(scalars,(1,2,1))\n",
    "print(scalars)\n",
    "print(scalars.shape)\n",
    "tensor = np.tensordot(scalars,x, axes=([2],[0]))\n",
    "tensor.reshape((-1,3))"
   ]
  },
  {
   "cell_type": "code",
   "execution_count": 172,
   "metadata": {
    "collapsed": false
   },
   "outputs": [],
   "source": [
    "def calculateTensor(A,s, repeatFirstScalar = True):\n",
    "        Am,An = A.shape\n",
    "        sn = len(s)\n",
    "        if repeatFirstScalar:\n",
    "            A = A.reshape((1,Am,An)) #add third dimension\n",
    "            s = s.reshape((sn,1,1)) #point vector to third axis (in python axis=0)\n",
    "            #we reduce the third axis of A (so axis=0) and the first axis of s (axis = 2)\n",
    "            #just take the index of a 1\n",
    "        #now multiply so we get an 3dim tensor\n",
    "        return np.tensordot(s,A,axes=0)"
   ]
  },
  {
   "cell_type": "code",
   "execution_count": 178,
   "metadata": {
    "collapsed": false
   },
   "outputs": [
    {
     "name": "stdout",
     "output_type": "stream",
     "text": [
      "[[[ 3  3  3]\n",
      "  [ 3  6  9]]\n",
      "\n",
      " [[ 5  5  5]\n",
      "  [ 5 10 15]]\n",
      "\n",
      " [[10 10 10]\n",
      "  [10 20 30]]]\n",
      "[[ 3  3  3]\n",
      " [ 5  5  5]\n",
      " [10 10 10]\n",
      " [ 3  6  9]\n",
      " [ 5 10 15]\n",
      " [10 20 30]]\n",
      "[[-2 -2 -2]\n",
      " [ 0  0  0]\n",
      " [ 5  5  5]\n",
      " [-2  1  4]\n",
      " [ 0  5 10]\n",
      " [ 5 15 25]]\n"
     ]
    },
    {
     "data": {
      "text/plain": [
       "array([[ 1,  1,  1],\n",
       "       [ 5,  5,  5],\n",
       "       [15, 15, 15],\n",
       "       [ 1,  7, 13],\n",
       "       [ 5, 15, 25],\n",
       "       [15, 35, 55]])"
      ]
     },
     "execution_count": 178,
     "metadata": {},
     "output_type": "execute_result"
    }
   ],
   "source": [
    "x = np.array([[1,1,1],[1,2,3]])\n",
    "scalars = np.array([3,5,10])\n",
    "tensor = calculateTensor(x,scalars, False)\n",
    "print(tensor)\n",
    "G = tensor.reshape((-1,3), order='F')\n",
    "F = G -5\n",
    "print(G)\n",
    "print(F)\n",
    "G+F"
   ]
  },
  {
   "cell_type": "code",
   "execution_count": null,
   "metadata": {
    "collapsed": true
   },
   "outputs": [],
   "source": []
  }
 ],
 "metadata": {
  "kernelspec": {
   "display_name": "Python 3",
   "language": "python",
   "name": "python3"
  },
  "language_info": {
   "codemirror_mode": {
    "name": "ipython",
    "version": 3
   },
   "file_extension": ".py",
   "mimetype": "text/x-python",
   "name": "python",
   "nbconvert_exporter": "python",
   "pygments_lexer": "ipython3",
   "version": "3.5.0"
  }
 },
 "nbformat": 4,
 "nbformat_minor": 0
}
