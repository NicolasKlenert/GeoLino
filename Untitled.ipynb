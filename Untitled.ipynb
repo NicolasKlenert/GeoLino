{
 "cells": [
  {
   "cell_type": "code",
   "execution_count": 1,
   "metadata": {
    "collapsed": false
   },
   "outputs": [],
   "source": [
    "import Sequencer\n",
    "import numpy as np"
   ]
  },
  {
   "cell_type": "code",
   "execution_count": 2,
   "metadata": {
    "collapsed": false
   },
   "outputs": [],
   "source": [
    "a = Sequencer.Sequencer('tests/testtext.txt')"
   ]
  },
  {
   "cell_type": "code",
   "execution_count": 3,
   "metadata": {
    "collapsed": false
   },
   "outputs": [
    {
     "data": {
      "text/plain": [
       "array([[ 1.  ,  0.  ,  1.  ,  0.  ,  1.  ],\n",
       "       [ 0.5 ,  4.  ,  3.  ,  2.  ,  1.  ],\n",
       "       [-1.  , -0.25,  4.  ,  2.  ,  0.  ]])"
      ]
     },
     "execution_count": 3,
     "metadata": {},
     "output_type": "execute_result"
    }
   ],
   "source": [
    "a.matrix"
   ]
  },
  {
   "cell_type": "code",
   "execution_count": 20,
   "metadata": {
    "collapsed": false
   },
   "outputs": [
    {
     "name": "stdout",
     "output_type": "stream",
     "text": [
      "[[ 1.  0.  0.  0.]]\n",
      "[[ 1.  0.  0.  0.]\n",
      " [ 0.  1.  0.  0.]]\n",
      "[[ 1.  0.  0.  0.]\n",
      " [ 0.  1.  0.  0.]\n",
      " [ 0.  0.  1.  0.]]\n",
      "[[ 1.  0.  0.  0.]\n",
      " [ 0.  1.  0.  0.]\n",
      " [ 0.  0.  1.  0.]\n",
      " [ 0.  0.  0.  1.]]\n"
     ]
    }
   ],
   "source": [
    "A = np.eye(4)\n",
    "tol = 0.01\n",
    "m, n = A.shape\n",
    "if np.linalg.matrix_rank(A, tol) != n:\n",
    "    raise Exception(\"The rank of the given matrix has to be full\")\n",
    "#find a subset of [n] so that A_I has still full rank\n",
    "#this option (just testing the rank everytime) is really time consuming\n",
    "#there are better ways\n",
    "I = []\n",
    "currentRank = 0\n",
    "\n",
    "for i in range(m):\n",
    "    J = I + [i]\n",
    "    print(A[J,:])\n",
    "    rank = np.linalg.matrix_rank(A[J], tol)\n",
    "    if rank > currentRank:\n",
    "        I = J\n",
    "        currentRank = rank\n",
    "        if currentRank == n:\n",
    "            break"
   ]
  },
  {
   "cell_type": "code",
   "execution_count": null,
   "metadata": {
    "collapsed": true
   },
   "outputs": [],
   "source": []
  }
 ],
 "metadata": {
  "kernelspec": {
   "display_name": "Python 3",
   "language": "python",
   "name": "python3"
  },
  "language_info": {
   "codemirror_mode": {
    "name": "ipython",
    "version": 3
   },
   "file_extension": ".py",
   "mimetype": "text/x-python",
   "name": "python",
   "nbconvert_exporter": "python",
   "pygments_lexer": "ipython3",
   "version": "3.5.0"
  }
 },
 "nbformat": 4,
 "nbformat_minor": 0
}
